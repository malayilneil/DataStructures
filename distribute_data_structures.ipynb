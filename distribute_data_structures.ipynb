{
  "metadata": {
    "colab": {
      "collapsed_sections": [],
      "name": "L1 - Lec3.ipynb",
      "provenance": []
    },
    "kernelspec": {
      "display_name": "Python 3",
      "language": "python",
      "name": "python3"
    },
    "language_info": {
      "codemirror_mode": {
        "name": "ipython",
        "version": 3
      },
      "file_extension": ".py",
      "mimetype": "text/x-python",
      "name": "python",
      "nbconvert_exporter": "python",
      "pygments_lexer": "ipython3",
      "version": "3.6.8"
    }
  },
  "nbformat": 4,
  "nbformat_minor": 2,
  "cells": [
    {
      "cell_type": "markdown",
      "metadata": {},
      "source": [
        "# Other Data Structures\n",
        "\n",
        "We've seen lists so far, but there are other collections of data in python which you will find yourself using quite often. Here we'll see the three main ones: sets, dictionaries, and tuples."
      ]
    },
    {
      "cell_type": "markdown",
      "metadata": {
        "colab_type": "text",
        "id": "E_kaIf3v5rLU"
      },
      "source": [
        "## Sets\n",
        "\n",
        "Sets come from Mathematics, where they are used to track unique elements. From the python perspective, a set is an unordered collection data type that is iterable, mutable and has **no duplicate** elements.\n",
        "\n",
        "The major advantage of using a set, as opposed to a list, is that it has a highly optimized method for checking whether a specific element is contained in the set. This makes"
      ]
    },
    {
      "cell_type": "code",
      "execution_count": 1,
      "metadata": {
        "colab": {
          "base_uri": "https://localhost:8080/",
          "height": 153
        },
        "colab_type": "code",
        "id": "1-ruIwtf56XO",
        "outputId": "d344ee14-d7ae-40ef-81b8-76fc2f4da371"
      },
      "outputs": [],
      "source": [
        "# Same as {\"a\", \"b\", \"c\"} \n",
        "Set = set([\"a\", \"b\", \"c\"]) \n",
        "  \n",
        "print(\"Set: \") \n",
        "print(Set) \n",
        "  \n",
        "# Adding element to the set \n",
        "Set.add(\"d\") \n",
        "print(\"\\nSet after adding: \") \n",
        "print(Set) \n",
        "\n",
        "#Adding an element that already exists\n",
        "Set.add(\"a\") \n",
        "print(\"\\nSet after adding: \") \n",
        "print(Set) "
      ]
    },
    {
      "cell_type": "markdown",
      "metadata": {},
      "source": [
        "Sets are listy and you can iterate over them"
      ]
    },
    {
      "cell_type": "code",
      "execution_count": 3,
      "metadata": {},
      "outputs": [],
      "source": [
        "for ele in Set:\n",
        "    print(ele)"
      ]
    },
    {
      "cell_type": "markdown",
      "metadata": {
        "colab_type": "text",
        "id": "C4EGJvse485f"
      },
      "source": [
        "Set comprehensions are similar to list comprehensions. You can use them to iterate over sets. The only difference between them is that set comprehensions use curly brackets { }. "
      ]
    },
    {
      "cell_type": "code",
      "execution_count": 4,
      "metadata": {
        "colab": {},
        "colab_type": "code",
        "id": "3G9re_au5KUD"
      },
      "outputs": [],
      "source": [
        "# Using Set comprehensions to create an output set which contains only the even numbers that are present in the input list.\n",
        "  \n",
        "input_list = [1, 2, 3, 4, 4, 5, 6, 6, 6, 7, 7] \n",
        "set_using_comp = {var for var in input_list if var % 2 == 0} \n",
        "  \n",
        "print(\"Output Set using set comprehensions:\", set_using_comp)"
      ]
    },
    {
      "cell_type": "markdown",
      "metadata": {},
      "source": [
        "And this is super fast:"
      ]
    },
    {
      "cell_type": "code",
      "execution_count": 16,
      "metadata": {},
      "outputs": [],
      "source": [
        "'c' in Set"
      ]
    },
    {
      "cell_type": "markdown",
      "metadata": {},
      "source": [
        "### A maths example\n",
        "\n",
        "![inline](images/sets-and-venn-diagrams-figure-2.png)"
      ]
    },
    {
      "cell_type": "code",
      "execution_count": 5,
      "metadata": {},
      "outputs": [],
      "source": [
        "\u03b6 = {1, 2, 3, 4, 5, 6, 7, 8, 9, 10, 11}\n",
        "A = {1, 3, 5, 7, 9, 11}\n",
        "B = {2, 3, 5, 7, 11}"
      ]
    },
    {
      "cell_type": "code",
      "execution_count": 6,
      "metadata": {},
      "outputs": [],
      "source": [
        "A.union(B)"
      ]
    },
    {
      "cell_type": "code",
      "execution_count": 7,
      "metadata": {},
      "outputs": [],
      "source": [
        "A.intersection(B)"
      ]
    },
    {
      "cell_type": "code",
      "execution_count": 9,
      "metadata": {},
      "outputs": [],
      "source": [
        "# A's complement\n",
        "\u03b6.difference(A)"
      ]
    },
    {
      "cell_type": "code",
      "execution_count": 10,
      "metadata": {},
      "outputs": [],
      "source": [
        "A - B"
      ]
    },
    {
      "cell_type": "code",
      "execution_count": 11,
      "metadata": {},
      "outputs": [],
      "source": [
        "A.symmetric_difference(B)"
      ]
    },
    {
      "cell_type": "markdown",
      "metadata": {},
      "source": [
        "### An application"
      ]
    },
    {
      "cell_type": "code",
      "execution_count": 15,
      "metadata": {},
      "outputs": [],
      "source": [
        "## Read a file, parse lines, and get all UNIQUE words\n",
        "\n",
        "wordset = set() # make a set with unique items  \n",
        "fd = open(\"data/Julius Caesar.txt\")\n",
        "lines = fd.readlines()\n",
        "fd.close()\n",
        "# strip newline characters and other whitespace off the edges\n",
        "cleaned_lines = [line.strip() for line in lines] \n",
        "# make a list of lists. \n",
        "# each inner list if the list of words on that line\n",
        "list_of_lines_words = [line.split() for line in lines]\n",
        "# Take each list of words, and get all the words\n",
        "for lines_words in list_of_lines_words:\n",
        "    wordset.update(lines_words) # update the wordset using the new list.\n",
        "unique_words = list(wordset)\n",
        "unique_words[:100] # 100 of these words"
      ]
    },
    {
      "cell_type": "markdown",
      "metadata": {
        "colab_type": "text",
        "id": "VeAvOhBe1yLK"
      },
      "source": [
        "## Dictionaries\n",
        "\n",
        "A \"bag\" of **value**s, each with its own label, called a **key**. The 'most powerful' data collection type,and one I suspect you will find yourself using a lot!\n",
        "\n",
        "A dictionary is similar to a list, and you can iterate over it but:\n",
        "- the order of items doesn't matter (use an `OrderedDict` for this)\n",
        "- they aren't selected by an index such as 0 or 5. \n",
        "\n",
        "Instead, a unique 'key' is associated with each 'value' . The 'key' can be any **immutable data type**: boolean, float, int, tuple, string (but it is often a string)\n",
        "\n",
        "Dictionaries themselves are \"Mutable\" (the values can be changed)."
      ]
    },
    {
      "cell_type": "code",
      "execution_count": 17,
      "metadata": {
        "colab": {},
        "colab_type": "code",
        "id": "p_ly6QO42EQB"
      },
      "outputs": [],
      "source": [
        "# Creating a dictionary:\n",
        "# 1. Using {}\n",
        "empty_dict = {} \n",
        "print (type(empty_dict))\n",
        "new_dict = { \"day\":5, \"venue\": \"GJB\", \"event\": \"Python Carnival!\" }\n",
        "print(new_dict)"
      ]
    },
    {
      "cell_type": "code",
      "execution_count": 18,
      "metadata": {
        "colab": {},
        "colab_type": "code",
        "id": "5ilpj0sF2P7r"
      },
      "outputs": [],
      "source": [
        "#2. Using dict()\n",
        "purse = dict(type=\"wallet\", material=\"leather\")\n",
        "purse"
      ]
    },
    {
      "cell_type": "code",
      "execution_count": 19,
      "metadata": {},
      "outputs": [],
      "source": [
        "purse['make'] = \"Versace\"\n",
        "purse"
      ]
    },
    {
      "cell_type": "markdown",
      "metadata": {
        "colab_type": "text",
        "id": "nytPS7CB2Sly"
      },
      "source": [
        "### Dictionary operations"
      ]
    },
    {
      "cell_type": "code",
      "execution_count": 20,
      "metadata": {
        "colab": {},
        "colab_type": "code",
        "id": "tQiqDquv2VXI"
      },
      "outputs": [],
      "source": [
        "# (a) Nested Dict\n",
        "D ={'to': {'name': 'Alice', 'age':18}}"
      ]
    },
    {
      "cell_type": "code",
      "execution_count": 21,
      "metadata": {
        "colab": {},
        "colab_type": "code",
        "id": "lZ6umYfc2YXm"
      },
      "outputs": [],
      "source": [
        "# (b) Alternative construction techniques:\n",
        "\n",
        "# (i) dict_var = dict([(key1, value1),(key2, value2), ...])\t\n",
        "D = dict([('name','Alice'),('age',18)])\n",
        "print(D)"
      ]
    },
    {
      "cell_type": "markdown",
      "metadata": {},
      "source": [
        "This is construction from a list of tuples. We'll see tuples soon."
      ]
    },
    {
      "cell_type": "code",
      "execution_count": 22,
      "metadata": {
        "colab": {},
        "colab_type": "code",
        "id": "lZ6umYfc2YXm"
      },
      "outputs": [],
      "source": [
        "# (iii) Creating dict from keys only\n",
        "# dict_var = dict.fromkeys([key1, key2, ...])\n",
        "D = dict.fromkeys(['name','age','place'])\n",
        "D"
      ]
    },
    {
      "cell_type": "markdown",
      "metadata": {},
      "source": [
        "Notice that the values have been asigned to a special object in python `None` which is of type `NoneType`. Its specially created to handle the situation of missing values, and evaluates as falsy in conditionals."
      ]
    },
    {
      "cell_type": "code",
      "execution_count": 24,
      "metadata": {},
      "outputs": [],
      "source": [
        "if D['age']:\n",
        "    print(\"Age is\", d['age'])\n",
        "else:\n",
        "    print(\"Nothing specified\")"
      ]
    },
    {
      "cell_type": "markdown",
      "metadata": {},
      "source": [
        "Its often used thus, using the opearator `not` in some flow.."
      ]
    },
    {
      "cell_type": "code",
      "execution_count": 25,
      "metadata": {},
      "outputs": [],
      "source": [
        "if not D['age']:\n",
        "    print(\"Age not given..ask!\")"
      ]
    },
    {
      "cell_type": "code",
      "execution_count": 26,
      "metadata": {
        "colab": {},
        "colab_type": "code",
        "id": "kwXnsK0p2aIB"
      },
      "outputs": [],
      "source": [
        "# (c) Indexing by key dict_var['key']\n",
        "print (D['age'])\n",
        "\n",
        "# (d) Membership operation 'key' in dict_var\n",
        "'place' in D"
      ]
    },
    {
      "cell_type": "markdown",
      "metadata": {},
      "source": [
        "Dictionaries are listy:"
      ]
    },
    {
      "cell_type": "code",
      "execution_count": 31,
      "metadata": {},
      "outputs": [],
      "source": [
        "for key in new_dict:\n",
        "    print(key, \":\", new_dict[key])"
      ]
    },
    {
      "cell_type": "code",
      "execution_count": 33,
      "metadata": {},
      "outputs": [],
      "source": [
        "for key, value in new_dict.items():\n",
        "    print(key, \";\", value)"
      ]
    },
    {
      "cell_type": "markdown",
      "metadata": {
        "colab_type": "text",
        "id": "KHklU_U82kip"
      },
      "source": [
        "Some other useful methods:\n",
        "\n",
        "1. All keys `dict_var.keys()`\n",
        "2. All values `dict_var.values()`\n",
        "3. All key + value tuples `dict_var.items()`  \n",
        "4. Copy method `dict_var.copy()`\n",
        "5. Remove all items `dict_var.clear()`\n",
        "6. Merging keys from different dict `dict_var1.update(dict_var2)`\n",
        "7. Fetch by key, if absent default `dict_var.get(key, default)`\n",
        "8. Remove by key, if absent default `dict_var.pop(key, default)`\n",
        "9. Fetch by key, if absent set default `dict_var.setdefault(key, default)` \n",
        "10. deleting items by key `del dict_var[key]`"
      ]
    },
    {
      "cell_type": "markdown",
      "metadata": {
        "colab_type": "text",
        "id": "Nqu1Ux2V4Tt9"
      },
      "source": [
        "Dictionaries can be iterated over using dictionary comprehensions which look thus:\n",
        "`output_dict = {key:value for (key, value) in iterable if (key, value satisfy this condition)}`"
      ]
    },
    {
      "cell_type": "code",
      "execution_count": 27,
      "metadata": {
        "colab": {},
        "colab_type": "code",
        "id": "YXwpLDp44hsi"
      },
      "outputs": [],
      "source": [
        "# Using Dictionary comprehensions to create an output dictionary which contains only the odd numbers that are present in the input list as keys and their cubes as values\n",
        "  \n",
        "input_list = [1,2,3,4,5,6,7] \n",
        "dict_using_comp = {var:var ** 3 for var in input_list if var % 2 != 0} \n",
        "  \n",
        "print(\"Output Dictionary using dictionary comprehensions:\", dict_using_comp)"
      ]
    },
    {
      "cell_type": "markdown",
      "metadata": {
        "colab_type": "text",
        "id": "sP_KKE5M1MFY"
      },
      "source": [
        "## Tuples\n",
        "\n",
        "They are a fast kind of sequence that functions much like a list - they have elements which are indexed starting at 0. They work exactly like lists, except that tuples can't be changed in place!! This means they are immutable, and this guarantee gives them their speed.\n",
        "\n",
        "\n",
        "BASIC PROPERTIES:\n",
        "\n",
        "- Ordered collections of arbitrary objects\n",
        "- Accessed by index\n",
        "- Of the category \"immutable sequence\"\n",
        "- Fixed-length, heterogeneous and arbitrarily nested\n",
        "\n",
        "The fixed length is important for performance. Unlike lists, they cannot be grown or shrunk.\n",
        "\n",
        "Theare are some ways to make tuples:"
      ]
    },
    {
      "cell_type": "code",
      "execution_count": 35,
      "metadata": {
        "colab": {},
        "colab_type": "code",
        "id": "LB1rWm6W1eiS"
      },
      "outputs": [],
      "source": [
        "# CREATING TUPLEs\n",
        "# (a) Using tuple()\n",
        "x = tuple() \n",
        "type(x)\t"
      ]
    },
    {
      "cell_type": "code",
      "execution_count": 36,
      "metadata": {
        "colab": {},
        "colab_type": "code",
        "id": "Qx4eqI5-1gtq"
      },
      "outputs": [],
      "source": [
        "# (b) Using only ()\n",
        "t=() \n",
        "type(t) "
      ]
    },
    {
      "cell_type": "markdown",
      "metadata": {},
      "source": [
        "The above tuples are 0-length and not so useful. Because tuples are immutable, the following code will not work."
      ]
    },
    {
      "cell_type": "code",
      "execution_count": 37,
      "metadata": {},
      "outputs": [],
      "source": [
        "t[0] = 5"
      ]
    },
    {
      "cell_type": "markdown",
      "metadata": {},
      "source": [
        "You will usually see them defined thus:"
      ]
    },
    {
      "cell_type": "code",
      "execution_count": 39,
      "metadata": {
        "colab": {},
        "colab_type": "code",
        "id": "dSU_mKH81kVu"
      },
      "outputs": [],
      "source": [
        "#(c) Casual way! \n",
        "z = 1,2,3,4 # or z = (1, 2, 3, 4)\n",
        "type(z) \n",
        "print(z)"
      ]
    },
    {
      "cell_type": "markdown",
      "metadata": {},
      "source": [
        "Of-course `z` is immutable"
      ]
    },
    {
      "cell_type": "code",
      "execution_count": 40,
      "metadata": {},
      "outputs": [],
      "source": [
        "z[2] = 3"
      ]
    },
    {
      "cell_type": "markdown",
      "metadata": {},
      "source": [
        "### Tuple operations"
      ]
    },
    {
      "cell_type": "code",
      "execution_count": 41,
      "metadata": {
        "colab": {},
        "colab_type": "code",
        "id": "a3UCpH9r1m1i"
      },
      "outputs": [],
      "source": [
        "# TUPLE LITERALS AND OPERATIONS\n",
        "# (a) Nested tuples\n",
        "T = ('Bob', ('Developer','Manager'))\n",
        "\n",
        "# Print the message below using tuple, T? \n",
        "# Bob is a Developer\n",
        "# your code here"
      ]
    },
    {
      "cell_type": "code",
      "execution_count": 42,
      "metadata": {
        "colab": {},
        "colab_type": "code",
        "id": "qCMuOX_o1sBC"
      },
      "outputs": [],
      "source": [
        "# (b) Indexing and Slicing\n",
        "T1 = (1, 2, 3, 4, 5)\n",
        "print(T1[0:2]) \n",
        "print (T1[::-1]) \n",
        "print (T1[0], T1[2:4])"
      ]
    },
    {
      "cell_type": "markdown",
      "metadata": {},
      "source": [
        "And tuples are, as you might expect, listy"
      ]
    },
    {
      "cell_type": "code",
      "execution_count": 44,
      "metadata": {
        "colab": {},
        "colab_type": "code",
        "id": "_u4Ru89V1vBc"
      },
      "outputs": [],
      "source": [
        "# (c) Iteration and Membership\n",
        "T1 = (1, 2, 3, 4, 5) \n",
        "for ele in T1:\n",
        "    print(ele)"
      ]
    },
    {
      "cell_type": "markdown",
      "metadata": {},
      "source": [
        "Think of why the following works..."
      ]
    },
    {
      "cell_type": "code",
      "execution_count": 45,
      "metadata": {
        "colab": {},
        "colab_type": "code",
        "id": "wD0atumy1xTX"
      },
      "outputs": [],
      "source": [
        "# TUPLE ASSIGNMENT\n",
        "# Whenever we need to swap two variables, we use the conventional method: Using a temporary variable,\n",
        "# temp = a \n",
        "# a = b \n",
        "# b = temp\n",
        "\n",
        "#It is rather simple to perform swapping using tuple assignment (does not require 'temp' variable!)\n",
        "A = (1, 2, 3) \n",
        "B = (4, 5, 6) \n",
        "A, B = B, A \n",
        "print (A)\n",
        "print (B)"
      ]
    },
    {
      "cell_type": "markdown",
      "metadata": {},
      "source": [
        "## An application of dictionaries\n",
        "\n",
        "Previously we had used a set to store the unique words in Julius Ceaser. Now we'll count how often these words are used!"
      ]
    },
    {
      "cell_type": "code",
      "execution_count": 46,
      "metadata": {},
      "outputs": [],
      "source": [
        "## Read a file, parse lines, and get all UNIQUE words\n",
        "\n",
        "worddict = dict() # make a set with unique items  \n",
        "fd = open(\"data/Julius Caesar.txt\")\n",
        "lines = fd.readlines()\n",
        "fd.close()\n",
        "# strip newline characters and other whitespace off the edges\n",
        "cleaned_lines = [line.strip() for line in lines] \n",
        "# make a list of lists. \n",
        "# each inner list if the list of words on that line\n",
        "list_of_lines_words = [line.split() for line in lines]\n",
        "# Take each list of words, and get all the words\n",
        "for lines_words in list_of_lines_words:\n",
        "    for word in lines_words:\n",
        "        if not word in worddict:\n",
        "            worddict[word] = 1\n",
        "        else:\n",
        "            worddict[word] += 1"
      ]
    },
    {
      "cell_type": "markdown",
      "metadata": {},
      "source": [
        "Now here is where the iterative nature of dictionaries can be used to our benefit. We sort the worddict, using the function `worddict.get` to provide the values, which are the counts."
      ]
    },
    {
      "cell_type": "code",
      "execution_count": 50,
      "metadata": {},
      "outputs": [],
      "source": [
        "topwords = sorted(worddict, key = worddict.get, reverse=True)"
      ]
    },
    {
      "cell_type": "code",
      "execution_count": 52,
      "metadata": {},
      "outputs": [],
      "source": [
        "for word in topwords[:20]:\n",
        "    print(word, worddict[word])"
      ]
    },
    {
      "cell_type": "markdown",
      "metadata": {},
      "source": [
        "You can even make a hacky histogram for this by creating a '#' for every 10 occurences"
      ]
    },
    {
      "cell_type": "code",
      "execution_count": 60,
      "metadata": {},
      "outputs": [],
      "source": [
        "for word in topwords[:20]:\n",
        "    print(word+(20 - len(word))*' ', (worddict[word]//10)*'*')"
      ]
    }
  ]
}